{
 "cells": [
  {
   "cell_type": "markdown",
   "metadata": {},
   "source": [
    "# NumPy.random Package\n",
    "\n",
    "\n",
    "This notebook goes through the numpy.random package and the concepts\n",
    "behind it.\n",
    "\n",
    "The notebook will display each aspect of the subcategory of numpy called numpy random. Detailed descriptions for each class in the numpy.random package with code showing how each class operates will be shown in this notebook. \n",
    "\n",
    "## Table of Contents\n",
    "1. [About Numpy](#AboutNumpy)\n",
    "2. [Imports](#Imports)\n",
    "3. [Simple Random Data](#SimpleRandomData)\n",
    "    1. [rand](#rand)\n",
    "    2. [randn](#randn)\n",
    "    3. [randint](#randint)\n",
    "    4. [random sample](#randomSample)\n",
    "    5. [choice](#choice)\n",
    "    6. [bytes](#bytes)\n",
    "4. [Permutations](#Permutations)\n",
    "    1. [shuffle](#shuffle)\n",
    "    2. [permutation](#permutation)\n",
    "5. [Distributions](#Distributions)\n",
    "    1. [binomial](#binomial)\n",
    "    2. [f](#f)\n",
    "    3. [geometric](#geometric)\n",
    "    4. [normal](#normal)\n",
    "    5. [standard exponential](#standardExp)\n",
    "    6. [uniform](#uniform)\n",
    "6. [Conclusion](#conclusion)\n",
    "\n",
    "\n",
    "### About NumPy <a name=\"AboutNumpy\"></a>\n",
    "    \n",
    "Numpy is a library for the Python programming language.\n",
    "It adds support for large arrays and matrices, along with a large collection of high-level mathematical functions to operate on these arrays. \n",
    "\n",
    "#### NumPy Random\n",
    "numpy.random package deals with random sampling. numpy.random package is the equivalent to pythons standard random librarys, but for NumPy arrays.\n",
    "\n"
   ]
  },
  {
   "cell_type": "markdown",
   "metadata": {},
   "source": [
    "## Imports <a name=\"Imports\"></a>\n",
    "These imports that will be used across the notebook by python."
   ]
  },
  {
   "cell_type": "code",
   "execution_count": 1,
   "metadata": {},
   "outputs": [],
   "source": [
    "import numpy as np\n",
    "import matplotlib.pyplot as plt\n",
    "import scipy.special as sps\n",
    "from scipy.special import i0"
   ]
  },
  {
   "cell_type": "markdown",
   "metadata": {},
   "source": [
    "## Simple random data <a name=\"SimpleRandomData\"></a>"
   ]
  },
  {
   "cell_type": "markdown",
   "metadata": {},
   "source": [
    "### numpy.random.rand <a name=\"rand\"></a>"
   ]
  },
  {
   "cell_type": "markdown",
   "metadata": {},
   "source": [
    "Random values in a given shape.\n",
    "\n",
    "Has a function that will genrate a random number between (0,1)"
   ]
  },
  {
   "cell_type": "code",
   "execution_count": 8,
   "metadata": {},
   "outputs": [
    {
     "data": {
      "text/plain": [
       "0.8966366835973738"
      ]
     },
     "execution_count": 8,
     "metadata": {},
     "output_type": "execute_result"
    }
   ],
   "source": [
    "np.random.rand()"
   ]
  },
  {
   "cell_type": "markdown",
   "metadata": {},
   "source": [
    "Also has a function that creates an array of the given shape and populates it with random samples from a uniform distribution over (0, 1)"
   ]
  },
  {
   "cell_type": "code",
   "execution_count": 9,
   "metadata": {
    "scrolled": true
   },
   "outputs": [
    {
     "data": {
      "text/plain": [
       "array([[0.9526641 , 0.50278786, 0.90021686, 0.38130572],\n",
       "       [0.9757503 , 0.95899729, 0.61126301, 0.84684341],\n",
       "       [0.87157913, 0.15119811, 0.88575237, 0.07144346],\n",
       "       [0.42383933, 0.49346978, 0.60373725, 0.05307501],\n",
       "       [0.69939426, 0.66245405, 0.52618523, 0.94067665],\n",
       "       [0.1009072 , 0.0402474 , 0.29810651, 0.17840608],\n",
       "       [0.83473509, 0.05534069, 0.72573371, 0.86758388]])"
      ]
     },
     "execution_count": 9,
     "metadata": {},
     "output_type": "execute_result"
    }
   ],
   "source": [
    "x = np.random.rand(7,4)\n",
    "x"
   ]
  },
  {
   "cell_type": "code",
   "execution_count": 10,
   "metadata": {},
   "outputs": [
    {
     "data": {
      "image/png": "[encoded data removed]",
      "text/plain": [
       "<matplotlib.figure.Figure at 0x18792e25048>"
      ]
     },
     "metadata": {},
     "output_type": "display_data"
    }
   ],
   "source": [
    "y = np.sin(x)\n",
    "plt.plot(x, y, 'r.')\n",
    "plt.show()"
   ]
  },
  {
   "cell_type": "markdown",
   "metadata": {},
   "source": [
    "### numpy.random.randn <a name=\"randn\"></a>"
   ]
  },
  {
   "cell_type": "markdown",
   "metadata": {},
   "source": [
    "Return a sample or samples from the “standard normal” distribution.\n",
    "\n",
    "Can be called to generate one random float."
   ]
  },
  {
   "cell_type": "code",
   "execution_count": 8,
   "metadata": {},
   "outputs": [
    {
     "data": {
      "text/plain": [
       "0.6706622872155372"
      ]
     },
     "execution_count": 8,
     "metadata": {},
     "output_type": "execute_result"
    }
   ],
   "source": [
    "np.random.randn()"
   ]
  },
  {
   "cell_type": "markdown",
   "metadata": {},
   "source": [
    "np.random.randn(n,n) will randomly generate floats sampled from a univariate “normal” distribution of mean 0 and variance 1.\n",
    "\n",
    "randn can generate random samples by using 'sigma * np.random.randn(...) + mu'"
   ]
  },
  {
   "cell_type": "code",
   "execution_count": 11,
   "metadata": {},
   "outputs": [
    {
     "data": {
      "text/plain": [
       "array([[6.4418355 , 6.81978127, 2.06318973, 6.65586357],\n",
       "       [5.82920592, 4.91463756, 3.33602319, 2.92307988],\n",
       "       [4.64624835, 4.72448753, 6.30860121, 6.30523692],\n",
       "       [4.93548979, 8.76961329, 4.3707126 , 7.37666272],\n",
       "       [6.74011057, 5.91287402, 4.25435207, 5.3016562 ],\n",
       "       [6.40778828, 4.57606537, 6.93788036, 4.92677346],\n",
       "       [3.70413669, 4.54686515, 3.50257439, 2.58363162]])"
      ]
     },
     "execution_count": 11,
     "metadata": {},
     "output_type": "execute_result"
    }
   ],
   "source": [
    "x = 2 * np.random.randn(7,4) + 5\n",
    "x"
   ]
  },
  {
   "cell_type": "markdown",
   "metadata": {},
   "source": [
    "Plotted on graph"
   ]
  },
  {
   "cell_type": "code",
   "execution_count": 13,
   "metadata": {
    "scrolled": true
   },
   "outputs": [
    {
     "data": {
      "image/png": "[encoded data removed]",
      "text/plain": [
       "<matplotlib.figure.Figure at 0x18793130b00>"
      ]
     },
     "metadata": {},
     "output_type": "display_data"
    }
   ],
   "source": [
    "y = np.sin(x)\n",
    "plt.plot(x, y, 'r.')\n",
    "plt.show()"
   ]
  },
  {
   "cell_type": "markdown",
   "metadata": {},
   "source": [
    "### numpy.random.randint <a name=\"randint\"></a>"
   ]
  },
  {
   "cell_type": "markdown",
   "metadata": {},
   "source": [
    "This returns random integers from low to high.\n",
    "\n",
    "Return random integers from the “discrete uniform” distribution of the specified dtype in the “half-open” interval [low, high). "
   ]
  },
  {
   "cell_type": "code",
   "execution_count": 59,
   "metadata": {},
   "outputs": [
    {
     "data": {
      "text/plain": [
       "1"
      ]
     },
     "execution_count": 59,
     "metadata": {},
     "output_type": "execute_result"
    }
   ],
   "source": [
    "np.random.randint(6)"
   ]
  },
  {
   "cell_type": "markdown",
   "metadata": {},
   "source": [
    "High: Highest signed integer is drawn from the distribution."
   ]
  },
  {
   "cell_type": "code",
   "execution_count": 45,
   "metadata": {},
   "outputs": [
    {
     "data": {
      "text/plain": [
       "12"
      ]
     },
     "execution_count": 45,
     "metadata": {},
     "output_type": "execute_result"
    }
   ],
   "source": [
    "np.random.randint(6, high=14)"
   ]
  },
  {
   "cell_type": "markdown",
   "metadata": {},
   "source": [
    "Size: Generates a distribution of numbers from a given number and how many are generated from the size of the distribution."
   ]
  },
  {
   "cell_type": "code",
   "execution_count": 61,
   "metadata": {},
   "outputs": [
    {
     "data": {
      "text/plain": [
       "array([1, 4, 1, 2, 4, 1, 4, 1, 1, 0])"
      ]
     },
     "execution_count": 61,
     "metadata": {},
     "output_type": "execute_result"
    }
   ],
   "source": [
    "np.random.randint(5, size=10)"
   ]
  },
  {
   "cell_type": "markdown",
   "metadata": {},
   "source": [
    "dtype: Specify the dtype of the distribution\n"
   ]
  },
  {
   "cell_type": "code",
   "execution_count": 8,
   "metadata": {},
   "outputs": [
    {
     "data": {
      "text/plain": [
       "array([[7, 7, 7, 8, 7],\n",
       "       [7, 8, 8, 9, 8],\n",
       "       [7, 7, 7, 7, 9]])"
      ]
     },
     "execution_count": 8,
     "metadata": {},
     "output_type": "execute_result"
    }
   ],
   "source": [
    "x = np.random.randint(7.4, high=10, size=(3,5), dtype='int')\n",
    "x"
   ]
  },
  {
   "cell_type": "markdown",
   "metadata": {},
   "source": [
    "### numpy.random.random_sample <a name=\"randomSample\"></a>"
   ]
  },
  {
   "cell_type": "markdown",
   "metadata": {},
   "source": [
    "Return random floats in the half-open interval [0.0, 1.0)."
   ]
  },
  {
   "cell_type": "markdown",
   "metadata": {},
   "source": [
    "random_sample returns a random number if no value is asserted."
   ]
  },
  {
   "cell_type": "code",
   "execution_count": 7,
   "metadata": {},
   "outputs": [
    {
     "data": {
      "text/plain": [
       "0.41502866863236976"
      ]
     },
     "execution_count": 7,
     "metadata": {},
     "output_type": "execute_result"
    }
   ],
   "source": [
    "np.random.random_sample()"
   ]
  },
  {
   "cell_type": "markdown",
   "metadata": {},
   "source": [
    "random_sample can return an array of values."
   ]
  },
  {
   "cell_type": "code",
   "execution_count": 9,
   "metadata": {},
   "outputs": [
    {
     "data": {
      "text/plain": [
       "array([0.51332864, 0.01748611, 0.00173095, 0.61642194, 0.74037055,\n",
       "       0.12177175, 0.40978929])"
      ]
     },
     "execution_count": 9,
     "metadata": {},
     "output_type": "execute_result"
    }
   ],
   "source": [
    "np.random.random_sample(7)"
   ]
  },
  {
   "cell_type": "markdown",
   "metadata": {},
   "source": [
    "random_sample can also be used to ranomly generate a multidimensional array."
   ]
  },
  {
   "cell_type": "code",
   "execution_count": 11,
   "metadata": {},
   "outputs": [
    {
     "data": {
      "text/plain": [
       "array([[0.87269866, 0.81417389, 0.9708142 , 0.76813412, 0.12543421],\n",
       "       [0.70374797, 0.94312557, 0.25565913, 0.76988228, 0.26572341],\n",
       "       [0.69413505, 0.11993544, 0.00234644, 0.79704671, 0.01217122],\n",
       "       [0.59727788, 0.85429019, 0.31345593, 0.9602443 , 0.19800856],\n",
       "       [0.58229572, 0.91013719, 0.4877972 , 0.16222924, 0.82959082],\n",
       "       [0.65739436, 0.44726764, 0.79380143, 0.27378474, 0.37161257],\n",
       "       [0.15471474, 0.6754869 , 0.80018044, 0.30783179, 0.31095134]])"
      ]
     },
     "execution_count": 11,
     "metadata": {},
     "output_type": "execute_result"
    }
   ],
   "source": [
    "x = np.random.random_sample((7, 5))\n",
    "x"
   ]
  },
  {
   "cell_type": "markdown",
   "metadata": {},
   "source": [
    "Plotted on graph"
   ]
  },
  {
   "cell_type": "code",
   "execution_count": 12,
   "metadata": {},
   "outputs": [
    {
     "data": {
      "image/png": "[encoded data removed]",
      "text/plain": [
       "<matplotlib.figure.Figure at 0x25a31eb7710>"
      ]
     },
     "metadata": {},
     "output_type": "display_data"
    }
   ],
   "source": [
    "y = np.sin(x)\n",
    "plt.plot(x, y, 'r.')\n",
    "plt.show()"
   ]
  },
  {
   "cell_type": "markdown",
   "metadata": {},
   "source": [
    "### numpy.random.choice <a name=\"choice\"></a>"
   ]
  },
  {
   "cell_type": "markdown",
   "metadata": {},
   "source": [
    "To create a random sample from a given 1-D array."
   ]
  },
  {
   "cell_type": "markdown",
   "metadata": {},
   "source": [
    "To display one random number from 0-14"
   ]
  },
  {
   "cell_type": "code",
   "execution_count": 30,
   "metadata": {},
   "outputs": [
    {
     "data": {
      "text/plain": [
       "4"
      ]
     },
     "execution_count": 30,
     "metadata": {},
     "output_type": "execute_result"
    }
   ],
   "source": [
    "np.random.choice(15)"
   ]
  },
  {
   "cell_type": "markdown",
   "metadata": {},
   "source": [
    "To create an array of numbers by giving it a second value."
   ]
  },
  {
   "cell_type": "code",
   "execution_count": 29,
   "metadata": {},
   "outputs": [
    {
     "data": {
      "text/plain": [
       "array([ 5, 14,  7, 14,  1, 12, 14,  3,  5, 14, 11,  1,  5,  2, 12])"
      ]
     },
     "execution_count": 29,
     "metadata": {},
     "output_type": "execute_result"
    }
   ],
   "source": [
    "np.random.choice(15,15)"
   ]
  },
  {
   "cell_type": "markdown",
   "metadata": {},
   "source": [
    "To create a non-uniform random sample from np.arange(7) of size 7."
   ]
  },
  {
   "cell_type": "code",
   "execution_count": 32,
   "metadata": {},
   "outputs": [
    {
     "data": {
      "text/plain": [
       "array([6, 6, 0, 0, 6, 6, 2], dtype=int64)"
      ]
     },
     "execution_count": 32,
     "metadata": {},
     "output_type": "execute_result"
    }
   ],
   "source": [
    "np.random.choice(7, 7, p=[0.3, 0, 0.2, 0.1, 0, 0, 0.4])"
   ]
  },
  {
   "cell_type": "markdown",
   "metadata": {},
   "source": [
    "To create a uniform random sample from np.arange(7) of size 7 without replacement."
   ]
  },
  {
   "cell_type": "code",
   "execution_count": 34,
   "metadata": {},
   "outputs": [
    {
     "data": {
      "text/plain": [
       "array([0, 2, 5, 3, 1, 6, 4])"
      ]
     },
     "execution_count": 34,
     "metadata": {},
     "output_type": "execute_result"
    }
   ],
   "source": [
    "np.random.choice(7, 7, replace=False)"
   ]
  },
  {
   "cell_type": "markdown",
   "metadata": {},
   "source": [
    "\n",
    "To create a non-uniform random sample from np.arange(7) of size 5 without replacement"
   ]
  },
  {
   "cell_type": "code",
   "execution_count": 39,
   "metadata": {},
   "outputs": [
    {
     "data": {
      "text/plain": [
       "array([3, 2, 5, 0, 6])"
      ]
     },
     "execution_count": 39,
     "metadata": {},
     "output_type": "execute_result"
    }
   ],
   "source": [
    "np.random.choice(7, 5, replace=False, p=[0.1, 0, 0.2, 0.4, 0, 0.2, 0.1])"
   ]
  },
  {
   "cell_type": "markdown",
   "metadata": {},
   "source": [
    "### numpy.random.bytes <a name=\"bytes\"></a>"
   ]
  },
  {
   "cell_type": "markdown",
   "metadata": {},
   "source": [
    "This returns random bytes."
   ]
  },
  {
   "cell_type": "code",
   "execution_count": 42,
   "metadata": {},
   "outputs": [
    {
     "data": {
      "text/plain": [
       "b\"\\xdc\\xac\\xdc\\x84\\xae\\x11C\\x90{\\xcc62R\\xfb\\x8e'\\xdcDr'i\\x0c\\xf9:E\\xc8\\xad\\xadnxJ\\xdf\\xaf\\x87\\x81\\xaf\\xf4F\\x1a\\xd41\\xfb\\xdf\\xf6\\x94U\\xc4\\x11\\xc5\\xce\""
      ]
     },
     "execution_count": 42,
     "metadata": {},
     "output_type": "execute_result"
    }
   ],
   "source": [
    "np.random.bytes(50)"
   ]
  },
  {
   "cell_type": "markdown",
   "metadata": {},
   "source": [
    "## Permutations <a name=\"Permutations\"></a>\n"
   ]
  },
  {
   "cell_type": "markdown",
   "metadata": {},
   "source": [
    "### numpy.random.shuffle <a name=\"shuffle\"></a>"
   ]
  },
  {
   "cell_type": "markdown",
   "metadata": {},
   "source": [
    "This is used to modify a sequence in-place by shuffling its contents."
   ]
  },
  {
   "cell_type": "code",
   "execution_count": 8,
   "metadata": {},
   "outputs": [
    {
     "data": {
      "text/plain": [
       "['Ford', 'Toyota', 'Volkswagen', 'Audi']"
      ]
     },
     "execution_count": 8,
     "metadata": {},
     "output_type": "execute_result"
    }
   ],
   "source": [
    "cars = ['Ford', 'Volkswagen', 'Toyota', 'Audi']\n",
    "np.random.shuffle(cars)\n",
    "cars"
   ]
  },
  {
   "cell_type": "markdown",
   "metadata": {},
   "source": [
    "### numpy.random.permutation <a name=\"permutation\"></a>"
   ]
  },
  {
   "cell_type": "markdown",
   "metadata": {},
   "source": [
    "This randomly permutes a sequence, or it returns a permuted range."
   ]
  },
  {
   "cell_type": "markdown",
   "metadata": {},
   "source": [
    "If x is an integer, randomly permute np.arange(x)."
   ]
  },
  {
   "cell_type": "code",
   "execution_count": 6,
   "metadata": {},
   "outputs": [
    {
     "data": {
      "text/plain": [
       "array([14, 10,  0, 13, 11,  3,  6,  7,  1,  4,  5,  2, 12,  8,  9])"
      ]
     },
     "execution_count": 6,
     "metadata": {},
     "output_type": "execute_result"
    }
   ],
   "source": [
    " np.random.permutation(15)\n"
   ]
  },
  {
   "cell_type": "markdown",
   "metadata": {},
   "source": [
    "If x is an array, make a copy and shuffle the elements randomly."
   ]
  },
  {
   "cell_type": "code",
   "execution_count": 9,
   "metadata": {},
   "outputs": [
    {
     "data": {
      "text/plain": [
       "array([15, 10,  5,  2,  4])"
      ]
     },
     "execution_count": 9,
     "metadata": {},
     "output_type": "execute_result"
    }
   ],
   "source": [
    "np.random.permutation([4, 2, 5, 10, 15])"
   ]
  },
  {
   "cell_type": "markdown",
   "metadata": {},
   "source": [
    "If x is a multi-dimensional array, it is only shuffled along its first index.\n"
   ]
  },
  {
   "cell_type": "code",
   "execution_count": 18,
   "metadata": {
    "scrolled": true
   },
   "outputs": [
    {
     "data": {
      "text/plain": [
       "array([[ 8,  9],\n",
       "       [ 0,  1],\n",
       "       [ 4,  5],\n",
       "       [ 2,  3],\n",
       "       [ 6,  7],\n",
       "       [10, 11]])"
      ]
     },
     "execution_count": 18,
     "metadata": {},
     "output_type": "execute_result"
    }
   ],
   "source": [
    "arr = np.arange(12).reshape((6, 2))\n",
    "np.random.permutation(arr)\n"
   ]
  },
  {
   "cell_type": "markdown",
   "metadata": {},
   "source": [
    "## Distributions <a name=\"Distributions\"></a>"
   ]
  },
  {
   "cell_type": "markdown",
   "metadata": {},
   "source": [
    "This section will look at some of the numpy.random Distributions. I focused on the more well-known distributions."
   ]
  },
  {
   "cell_type": "markdown",
   "metadata": {},
   "source": [
    "### numpy.random.binomial <a name=\"binomial\"></a>"
   ]
  },
  {
   "cell_type": "markdown",
   "metadata": {},
   "source": [
    "This draws samples from a binomial distribution.\n",
    "\n",
    "Samples are drawn from a binomial distribution with specified parameters, n trials and p probability of success and n is an integer greateror equal to 0 and p is in the interval (0,1).\n",
    "\n",
    "The probability density for the binomial distribution is\n",
    "\n",
    "$$\n",
    "P(N) = (\\frac{n}{N})p^N(1-p)^{n-N}\n",
    "$$\n",
    "\n",
    "where n is the number of trials,P is the probability of success, and N is the number of successes."
   ]
  },
  {
   "cell_type": "code",
   "execution_count": 25,
   "metadata": {},
   "outputs": [
    {
     "data": {
      "text/plain": [
       "array([5, 3, 6, 9, 3, 2, 7, 8, 4, 5, 6, 4, 6, 8, 6, 7, 2, 8, 1, 5, 6, 6,\n",
       "       6, 4, 5, 4, 6, 6, 4, 6, 2, 7, 5, 6, 6, 2, 6, 4, 4, 6, 3, 3, 6, 6,\n",
       "       6, 3, 3, 5, 4, 3, 9, 5, 7, 6, 5, 4, 3, 4, 4, 3, 5, 5, 7, 6, 4, 4,\n",
       "       6, 2, 5, 6, 6, 3, 6, 7, 6, 8, 2, 5, 7, 2, 6, 4, 6, 6, 5, 3, 6, 3,\n",
       "       5, 5, 5, 4, 5, 3, 7, 6, 6, 3, 7, 4])"
      ]
     },
     "execution_count": 25,
     "metadata": {},
     "output_type": "execute_result"
    }
   ],
   "source": [
    "n, p = 10, .5\n",
    "s = np.random.binomial(n, p, 100)\n",
    "s"
   ]
  },
  {
   "cell_type": "markdown",
   "metadata": {},
   "source": [
    "A real world example. A footballer takes 5 penalties, each with an estimated probability of success of 0.5. All 5 penalties miss. What is the probability of that happening?\n",
    "Let’s do 5000 trials of the model, and count the number that generate zero positive results."
   ]
  },
  {
   "cell_type": "code",
   "execution_count": 36,
   "metadata": {},
   "outputs": [
    {
     "data": {
      "text/plain": [
       "0.034"
      ]
     },
     "execution_count": 36,
     "metadata": {},
     "output_type": "execute_result"
    }
   ],
   "source": [
    "sum(np.random.binomial(5, 0.5, 5000) == 0)/5000."
   ]
  },
  {
   "cell_type": "markdown",
   "metadata": {},
   "source": [
    "There is a 3.4% chnace that the footballer misses all 5 penalties."
   ]
  },
  {
   "cell_type": "markdown",
   "metadata": {},
   "source": [
    "### numpy.random.f <a name=\"f\"></a>"
   ]
  },
  {
   "cell_type": "markdown",
   "metadata": {},
   "source": [
    "This draws samples from an F distribution.\n",
    "\n",
    "Samples are drawn from an F distribution with specified parameters, dfnum and dfden, both should be greater than zero.\n",
    "\n",
    "An Example:\n",
    "\n",
    "Two groups, children of diabetics (25 people) and children from people without diabetes (25 controls). Fasting blood glucose was measured, case group had a mean value of 86.1, controls had a mean value of 82.2. Standard deviations were 2.09 and 2.49 respectively. Are these data consistent with the null hypothesis that the parents diabetic status does not affect their children’s blood glucose levels? Calculating the F statistic from the data gives a value of 36.01."
   ]
  },
  {
   "cell_type": "code",
   "execution_count": 10,
   "metadata": {},
   "outputs": [
    {
     "data": {
      "text/plain": [
       "array([2.19631165e-02, 1.36817148e-01, 4.12786389e+00, 4.32115031e+00,\n",
       "       1.30200286e-01, 1.60128488e-02, 5.57672561e-01, 7.08046426e-01,\n",
       "       2.60444517e-01, 2.30402209e-02, 3.74845310e-02, 7.35298980e+00,\n",
       "       5.22175384e-01, 1.44186413e+00, 1.22035677e-01, 1.83731002e-01,\n",
       "       1.48943207e-01, 1.03657653e+00, 1.68762447e-01, 2.82450037e+00,\n",
       "       1.50808302e-03, 1.38943325e-02, 2.73991236e-01, 3.12485935e-01,\n",
       "       2.83691677e-01, 2.78430118e-01, 3.36457188e+00, 1.39598260e+00,\n",
       "       2.19434965e-01, 5.53852809e-02, 4.43570106e-06, 3.02812533e+00,\n",
       "       3.12055122e+00, 3.02554626e-01, 2.74975855e-02, 1.31003733e+00,\n",
       "       2.98443169e+00, 3.42565129e+00, 5.80822670e-01, 2.64739230e-01,\n",
       "       9.35670805e-01, 2.08230942e-01, 6.12630492e-01, 2.73805471e+00,\n",
       "       2.41307363e-01, 2.01475557e-02, 2.99534090e-01, 5.70831145e-02,\n",
       "       1.81752271e-01, 1.59813975e+00, 2.90618452e+00, 8.33263156e+00,\n",
       "       3.02092885e-01, 4.63261995e+00, 1.04248933e-03, 6.77690755e-02,\n",
       "       9.91724896e-02, 5.16177819e-03, 5.99520516e-01, 5.83103542e-01,\n",
       "       5.29289839e-01, 3.62210460e+00, 3.63777475e-01, 1.28248146e-03,\n",
       "       5.93917042e-01, 4.48369412e-01, 1.90976791e-02, 4.54782844e+00,\n",
       "       1.52454457e+00, 2.07110091e+00, 3.70153142e-02, 1.44297401e+00,\n",
       "       3.67264420e+00, 1.44664047e+00, 1.10219031e+00, 1.18016293e-01,\n",
       "       1.64876320e-02, 5.64554834e-01, 2.93795360e-01, 1.23094523e+00,\n",
       "       6.41663087e-01, 9.80814566e-03, 8.74335023e-01, 9.19007002e-01,\n",
       "       1.19596101e+00, 1.76732318e-01, 2.22750461e-01, 9.36447727e-01,\n",
       "       3.67353878e-03, 4.88793264e-01, 1.63114171e-01, 6.59980172e-01,\n",
       "       6.20523390e-01, 6.29709664e-01, 3.67465254e-01, 1.19042141e+00,\n",
       "       2.65292746e+00, 9.36104546e-01, 1.41175186e-01, 7.01930998e-01,\n",
       "       8.30291450e-01, 3.15733036e+00, 1.21814919e-02, 2.16335175e+00,\n",
       "       4.55513263e-03, 2.82359652e+00, 2.66245232e-01, 1.02303011e+00,\n",
       "       4.54730726e-02, 1.07507352e+00, 3.48250393e+00, 1.01706690e+00,\n",
       "       1.66062781e-01, 1.16706480e+00, 1.28468843e-01, 5.63234098e-01,\n",
       "       2.85993803e+00, 6.15329142e-01, 4.01486147e+00, 8.69372111e-02,\n",
       "       2.45985673e+00, 4.75352794e-02, 3.00663268e+00, 1.47377518e+00,\n",
       "       7.19458455e-02, 6.97979909e-01, 5.85613063e-01, 1.01356505e-01,\n",
       "       1.01575912e-01, 3.48453019e+00, 2.51873196e-01, 4.36352085e-01,\n",
       "       1.14082348e+00, 5.26915684e+00, 4.05718087e-01, 1.12976975e-02,\n",
       "       4.14568697e-01, 4.93381484e-01, 5.19999076e-01, 7.66538415e-03,\n",
       "       6.04736845e-01, 5.07696695e-02, 3.28136986e+00, 2.68840789e-01,\n",
       "       1.75825989e+00, 1.67814861e+00, 4.33569883e+00, 2.50523096e+00,\n",
       "       2.11992281e-01, 2.17133848e+00, 3.07463788e+00, 4.62112166e-03,\n",
       "       1.78459586e+00, 3.80939094e-03, 4.54207912e-01, 3.45654444e-01,\n",
       "       1.38605961e-01, 3.51267084e-01, 8.15356592e-02, 3.20639175e-01,\n",
       "       1.85222857e-01, 1.99521004e+00, 2.79232555e-02, 9.02697179e-01,\n",
       "       2.79775072e+00, 1.37474494e-01, 2.40580067e+00, 4.50952295e-01,\n",
       "       3.13290817e-02, 6.13052994e+00, 3.32406222e-01, 3.10248725e-02,\n",
       "       2.33254053e+00, 1.35463204e-01, 4.05222462e+00, 1.11300625e+00,\n",
       "       3.77558183e-02, 2.37773778e-01, 5.89697289e-02, 1.08096759e-02,\n",
       "       1.87310038e-01, 1.16398763e-01, 1.33490614e-02, 1.09823436e-01,\n",
       "       7.50365293e-03, 7.90034437e-03, 3.18682603e-03, 6.85237205e-01,\n",
       "       4.05730743e-01, 1.93108788e-02, 1.38410288e+00, 7.37650261e-04,\n",
       "       4.88519326e-02, 1.42123911e-02, 2.44914629e-02, 1.32231394e+00,\n",
       "       1.43222081e+00, 4.39512076e+00, 1.10972696e-01, 3.29335337e-02,\n",
       "       1.71554366e-01, 1.58119905e-01, 5.25274775e-01, 1.91098755e-02,\n",
       "       7.97798456e-01, 3.16668822e-01, 2.22642046e+00, 2.51076560e-01,\n",
       "       3.86216192e-02, 1.57900197e+00, 8.73188970e-01, 1.16058351e+00,\n",
       "       1.47111451e+00, 1.78909327e+00, 2.36822973e-01, 6.37312444e-01,\n",
       "       4.08491589e-01, 9.42911873e-02, 1.75463762e+00, 2.84334657e-04,\n",
       "       1.97292216e-01, 2.14684543e+00, 6.86767210e-02, 1.21846087e+00,\n",
       "       5.26648933e-02, 5.52015550e-01, 1.74628881e+00, 5.92186989e-01,\n",
       "       2.02830759e+00, 1.98199084e+00, 3.57499566e+00, 3.55393829e-02,\n",
       "       8.60763998e-04, 7.15304910e-01, 1.83379116e-01, 2.29132964e-01,\n",
       "       4.47258035e-01, 1.82689012e-01, 2.84936920e-03, 2.53868184e+00,\n",
       "       3.32930516e+00, 6.46651262e-01, 8.74990581e-02, 4.69556994e-01,\n",
       "       1.51586172e-02, 6.17970587e-01, 4.26558002e+00, 5.61289224e+00,\n",
       "       6.47971467e-01, 1.83894072e+00, 2.08931812e+00, 2.98728565e+00,\n",
       "       1.37835415e+00, 2.15215955e-01, 7.55457947e-01, 2.13837139e-01,\n",
       "       4.34121490e+00, 2.81081614e-01, 2.50019362e-01, 8.31772036e-01,\n",
       "       1.51303386e+00, 8.75216854e-01, 3.52930792e-01, 3.83251563e-01,\n",
       "       2.44057242e+00, 2.82044454e-02, 1.05340623e-01, 4.36346700e-01,\n",
       "       3.32769125e+00, 6.86856399e-01, 1.05575603e+00, 1.97192603e+00,\n",
       "       3.58295133e-02, 2.39719965e+00, 5.98902631e-01, 1.14946888e+00,\n",
       "       6.34546074e-02, 1.31194175e+00, 9.22176290e+00, 2.32162959e-04,\n",
       "       5.02549221e-02, 8.37798447e-02, 1.20646672e-01, 4.49126522e-01,\n",
       "       1.23981035e-01, 1.87637840e+00, 3.63496540e-02, 3.32193606e-02,\n",
       "       8.62008779e-03, 3.63591782e+00, 1.41371259e-01, 3.29669816e+00,\n",
       "       6.15450700e-02, 8.47034497e-01, 1.78170166e-01, 1.80593700e+00,\n",
       "       9.35525954e-03, 3.81706199e-01, 4.56657130e+00, 4.44009110e-01,\n",
       "       8.81011026e-02, 2.40139786e-02, 7.76122251e-02, 1.74456994e+00,\n",
       "       1.60362159e+00, 8.40629199e-01, 4.08812676e-01, 3.78274944e-01,\n",
       "       3.24304352e-01, 4.08574475e-03, 1.37740247e+00, 4.07497617e-02,\n",
       "       2.75998067e+00, 1.68133990e-01, 1.87168459e+00, 2.00440323e-03,\n",
       "       7.45458164e-01, 2.31619194e+00, 7.24154159e-01, 8.33728300e-02,\n",
       "       1.06133413e+00, 2.93308496e+00, 1.01499806e+00, 5.53571835e+00,\n",
       "       4.22368808e-01, 6.61387158e-02, 3.05108080e-01, 5.16691560e-02,\n",
       "       3.80923814e-01, 3.34898813e+00, 2.94353237e+00, 7.57280198e-02,\n",
       "       2.03516364e-04, 1.93369891e+00, 5.51349061e-02, 1.51946810e-02,\n",
       "       2.01827486e+00, 1.05657894e-02, 3.47514762e-04, 2.45460600e+00,\n",
       "       7.90294123e-02, 8.92731402e-02, 6.55398028e-01, 3.54926507e-02,\n",
       "       9.36109294e-02, 4.71394905e+00, 2.35926179e-01, 3.59959233e+00,\n",
       "       4.99064064e+00, 1.80380326e-02, 5.61715562e-02, 9.79582657e-03,\n",
       "       1.08165119e+00, 2.07067202e-02, 1.49000488e+00, 9.93006674e-02,\n",
       "       3.08169983e-01, 1.51947641e+00, 6.29902261e-01, 1.10995926e-01,\n",
       "       4.95683654e-02, 8.27271669e-02, 4.91519524e-01, 1.77900473e+00,\n",
       "       7.53392748e-01, 4.38441977e-01, 5.05007553e+00, 7.97721733e-02,\n",
       "       3.50449990e-01, 3.17229038e-02, 8.28015151e-01, 3.33242958e+00,\n",
       "       1.27412749e+00, 1.56897874e-03, 5.92029255e-01, 6.14323069e-02,\n",
       "       4.37534315e-01, 9.33159441e-01, 2.29895817e+00, 8.69934185e-01,\n",
       "       1.91540249e+00, 2.25600865e+00, 4.24526391e-01, 1.41818710e+00,\n",
       "       3.36782935e-02, 9.80597193e-02, 4.89348928e-01, 5.47861616e-01,\n",
       "       5.55798614e-02, 4.93261655e+00, 8.49536954e-01, 2.45814518e+00,\n",
       "       2.00803861e-01, 7.01502822e-01, 1.13740760e+00, 1.39832485e-01,\n",
       "       1.69227158e+00, 1.12232459e+00, 1.63630974e-02, 7.36381285e-01,\n",
       "       2.05143286e-01, 1.08749664e-01, 8.28716643e-01, 5.64589836e-02,\n",
       "       8.71005812e-01, 1.41475388e+00, 2.20318838e-02, 1.91515670e-01,\n",
       "       9.15014167e-01, 5.88277531e+00, 1.41123198e-01, 1.45903595e-01,\n",
       "       1.65324809e+00, 3.71874113e+00, 1.33937179e+00, 1.39382677e+00,\n",
       "       3.76879006e-01, 4.37037820e-01, 1.84582508e+00, 6.44366614e-02,\n",
       "       5.82072922e-02, 9.27918826e-03, 2.61394049e-01, 7.58153103e+00,\n",
       "       2.39775255e-01, 1.14250074e+00, 5.03896962e-02, 2.03761582e-01,\n",
       "       1.70494252e-01, 1.22957702e+00, 1.57133568e+00, 1.38159758e+00,\n",
       "       1.88174990e-03, 8.72942919e-01, 8.19347144e-01, 1.08528136e+00,\n",
       "       4.53434558e+00, 3.30050984e+00, 2.13616538e-01, 1.96162379e+00,\n",
       "       2.83104916e+00, 2.26899927e+00, 2.06188748e+00, 1.03699945e+00,\n",
       "       3.53602903e+00, 7.02615998e-01, 1.12750165e+00, 4.73088618e-04,\n",
       "       1.53861322e+00, 1.82269971e-01, 6.41787140e-02, 9.26074969e-03,\n",
       "       5.59100683e-04, 1.82373150e+00, 9.08754048e-02, 1.21990350e+00,\n",
       "       6.94955606e-01, 3.42784368e-03, 3.77126071e+00, 5.60351336e-02,\n",
       "       1.04348875e+00, 7.22447798e-01, 8.03899260e-01, 1.61195736e-01,\n",
       "       8.10099143e-01, 8.58661936e-02, 7.87285387e-02, 1.19654950e-01,\n",
       "       2.07696358e-02, 2.81450091e-02, 3.75182733e-01, 1.98823229e-01,\n",
       "       3.56863127e-01, 3.03730746e-01, 3.07889366e+00, 1.02689221e-01,\n",
       "       2.17007515e-01, 7.50842731e-01, 3.80346242e-01, 6.01153818e-03,\n",
       "       1.51626824e+00, 1.51676723e-01, 5.82451736e-01, 4.46193440e-02,\n",
       "       1.09585096e+00, 1.27657537e-03, 3.07695700e+00, 1.04735849e+00,\n",
       "       1.09162823e+00, 2.96845021e-01, 2.47939904e+00, 2.31867517e-01,\n",
       "       3.22445372e-01, 2.96281084e+00, 1.10722525e-02, 2.28203152e-02,\n",
       "       1.70585339e-02, 2.83480247e-04, 5.37391626e-01, 2.78362495e-01,\n",
       "       3.46530001e-01, 3.99756415e-02, 1.12908885e+00, 4.21835183e-01,\n",
       "       4.20020692e-01, 1.90987634e-01, 1.18247231e+00, 8.78585987e-01,\n",
       "       6.35912293e+00, 2.87255742e-01, 2.47634515e+00, 3.10226743e+00,\n",
       "       4.65826938e+00, 2.19004350e-01, 1.57854762e+00, 1.32972392e+00,\n",
       "       4.16620039e+00, 1.02069141e-01, 8.85984360e-01, 6.04587547e-01,\n",
       "       6.69464709e-01, 9.55426148e-01, 8.79259729e-01, 9.69325492e-01,\n",
       "       6.77073033e-02, 8.36996693e-02, 8.58646127e-01, 1.56228087e-01,\n",
       "       7.17708777e-02, 6.79977781e-02, 2.79075950e-01, 4.05450230e-01,\n",
       "       8.01245698e-01, 9.68501708e-03, 1.50926113e+00, 3.32885184e+00,\n",
       "       9.07057966e-01, 1.82573614e+00, 1.75759146e-01, 4.29976759e-01,\n",
       "       1.40970093e-01, 2.08061608e-01, 1.66088554e-01, 7.48512503e-01,\n",
       "       4.37157678e-04, 5.70959249e+00, 5.87668602e-01, 7.01288898e-01,\n",
       "       1.88681085e+00, 3.57705787e-02, 6.76864018e-01, 4.12219457e+00,\n",
       "       6.29703280e-01, 6.44294379e-01, 1.24000148e-01, 1.91351181e-04,\n",
       "       3.03844679e+00, 4.04006840e+00, 1.71008476e-02, 6.18679248e-01,\n",
       "       4.95944095e-01, 5.07038998e-02, 1.27280129e+00, 9.97602512e-01,\n",
       "       1.24743768e-01, 2.18659584e+00, 1.42415901e+00, 2.37512836e-02,\n",
       "       9.32229998e-02, 4.54027662e+00, 1.15380684e+00, 2.39599222e-01,\n",
       "       1.02341672e+00, 2.52911507e-01, 4.08702225e-01, 5.50168601e-02,\n",
       "       4.37041427e-02, 9.29668859e-01, 1.01957567e-01, 1.38696155e-02,\n",
       "       8.33081419e-01, 1.68323717e-02, 1.29826139e-01, 9.55240465e-01,\n",
       "       6.71739924e-02, 1.29121705e-02, 1.43041717e+00, 1.21359822e+00,\n",
       "       1.22837138e-01, 1.99624360e+00, 8.43697469e-01, 1.63856972e+00,\n",
       "       7.00815595e-01, 9.11628888e-02, 8.44014071e-01, 5.34307904e-01,\n",
       "       9.70065264e-03, 9.04185835e-01, 4.59496724e+00, 5.12311320e-02,\n",
       "       1.21304107e+00, 2.60635158e-01, 1.84009825e+00, 2.70761157e-01,\n",
       "       4.32524115e-01, 8.25926379e-01, 6.54174917e-01, 2.22993346e+00,\n",
       "       4.80032191e-02, 1.96134161e-03, 5.31612095e-01, 1.02303896e-01,\n",
       "       4.13126743e-04, 3.66017809e-01, 5.95785121e-01, 1.94403559e+00,\n",
       "       1.40591286e+00, 1.55171895e-02, 1.59398398e-01, 4.88101267e+00,\n",
       "       1.10509498e-01, 1.14110403e+00, 1.97039040e-01, 9.44624707e-02,\n",
       "       4.74622527e-01, 2.21013349e+00, 1.33818838e+00, 2.11378298e-01,\n",
       "       5.96921784e-01, 2.39585099e+00, 4.87614182e-01, 3.49183519e-02,\n",
       "       5.49286623e-03, 1.29385568e+00, 2.18848538e+00, 3.17493088e-02,\n",
       "       1.21825057e+00, 5.90263755e-02, 1.84828206e-01, 4.17715426e-03,\n",
       "       3.24884156e-03, 4.54091814e-01, 4.62255021e+00, 5.45250788e-01,\n",
       "       3.48279945e-01, 9.10314625e-04, 3.91949803e-02, 2.68217272e-01,\n",
       "       8.49157452e-01, 4.60715979e-01, 9.53503600e-02, 2.09769017e+00,\n",
       "       7.65907518e-01, 7.18182107e-01, 8.02976997e-01, 3.45856682e-01,\n",
       "       6.63585292e-03, 1.93230706e+00, 4.40335494e-02, 5.75463933e-01,\n",
       "       4.18151970e-01, 2.51455145e+00, 1.80736404e+00, 1.71946561e-01,\n",
       "       1.15747960e-01, 1.30859294e-03, 9.44897650e-01, 4.76921508e-03,\n",
       "       1.93806451e-02, 2.22905517e+00, 2.85108079e-01, 6.18612850e-01,\n",
       "       1.06114087e+00, 8.51120565e-02, 1.77464204e-01, 8.30727171e-01,\n",
       "       3.83059356e+00, 1.06370074e+00, 2.76047899e-01, 9.10046962e-01,\n",
       "       2.67779454e-01, 1.92511956e-01, 2.46294322e-01, 1.13844699e-01,\n",
       "       1.12017152e+00, 7.44531303e-02, 2.03027117e-01, 4.32648942e-01,\n",
       "       7.72316873e-01, 1.63158844e-03, 8.50453887e-01, 7.89251570e-01,\n",
       "       1.92523322e+00, 4.96790270e-02, 1.36182299e+00, 1.14404668e+00,\n",
       "       1.05538646e-02, 3.23930793e-01, 7.12039947e-01, 3.54943060e-02,\n",
       "       4.97129062e-01, 2.24843308e+00, 9.01926867e-05, 7.78057484e-01,\n",
       "       5.19083468e-01, 4.11008787e-02, 2.10234495e-01, 5.32734902e-01,\n",
       "       1.70200589e-01, 7.65688297e-02, 1.17492283e+00, 7.45323020e-01,\n",
       "       1.40200468e+00, 2.28400143e-03, 1.31971177e-02, 8.91801357e-02,\n",
       "       1.55687045e+00, 3.86781120e-01, 1.55195975e-01, 1.66270676e-01,\n",
       "       2.65530527e+00, 1.39169868e+00, 1.49751849e+00, 1.38652618e+00,\n",
       "       1.88966901e+00, 9.36845821e-01, 1.85616139e-01, 7.49857261e-02,\n",
       "       7.29568022e-01, 1.25596575e-01, 1.48220757e-02, 1.70537531e+00,\n",
       "       2.43511604e+00, 1.32156698e-01, 6.10460650e-01, 1.66425736e-01,\n",
       "       5.30495322e-01, 4.09039190e-02, 1.96313577e-01, 3.22515517e-01,\n",
       "       1.85285818e-01, 7.80333344e+00, 3.78558129e+00, 4.50508526e-01,\n",
       "       1.62315468e+00, 2.64289808e+00, 1.78741220e-01, 1.55845556e+00,\n",
       "       1.01918064e+00, 6.30172113e-02, 9.74278062e-01, 3.89170244e-02,\n",
       "       1.52052729e-01, 2.86440823e+00, 2.04296543e-01, 2.12836386e-04,\n",
       "       1.94670482e+00, 1.95285317e-01, 1.83861805e-01, 1.51148332e-01,\n",
       "       2.20829032e+00, 8.33356481e-01, 5.31530396e-01, 1.03556915e+00,\n",
       "       3.46002451e-01, 3.51313081e+00, 5.03400325e-01, 1.23218325e+00,\n",
       "       3.13618434e-02, 6.81707977e+00, 4.44532156e+00, 1.04944602e-01,\n",
       "       1.58592645e+00, 8.24314758e+00, 1.52089352e-01, 5.25178300e-01,\n",
       "       2.79092913e-03, 1.27832493e-02, 8.41850837e-02, 1.18277314e+00,\n",
       "       4.39013182e-01, 9.04527529e-01, 3.06576437e-02, 8.95081346e-01,\n",
       "       3.59912420e-03, 4.15570589e-03, 7.70049468e-01, 1.29206803e+00,\n",
       "       4.31934425e+00, 3.02526860e-02, 2.70727450e-01, 1.00329444e+00,\n",
       "       3.35326402e-01, 3.46919351e-01, 1.40536038e-01, 1.08902445e+00,\n",
       "       2.27858272e-01, 3.70842302e-01, 4.63265551e-01, 9.19924999e-01,\n",
       "       1.29289101e+00, 8.90895293e-01, 9.13110008e-07, 5.32842314e-01,\n",
       "       7.59656462e-03, 1.92266844e-01, 4.97503962e-02, 7.37698521e-01,\n",
       "       6.35500261e+00, 1.97010309e-04, 4.88320020e-04, 3.79246717e+00,\n",
       "       8.09444165e-01, 7.43073342e-01, 1.83990981e+00, 1.89648264e+00,\n",
       "       1.22053946e-01, 2.30588202e+00, 1.38098272e+00, 2.35342215e+00,\n",
       "       2.65504420e+00, 1.88359064e+00, 2.40433693e+00, 3.06076985e-02,\n",
       "       4.73103095e+00, 8.25114770e-01, 6.78524215e-03, 8.98388310e-02,\n",
       "       7.69381573e-01, 4.20746947e+00, 2.03916076e-04, 2.38357471e-01,\n",
       "       7.20743069e-01, 2.23509291e+00, 2.73176939e-01, 7.26434896e-01,\n",
       "       1.57428778e-01, 5.07088999e-02, 1.96316032e-01, 1.53126747e+00,\n",
       "       2.40680106e+00, 1.92803284e+00, 5.91828643e-03, 2.36403977e+00,\n",
       "       4.08127595e-01, 8.17333878e-01, 1.08865818e+00, 2.90553773e-01,\n",
       "       2.08679096e-01, 9.94543084e-01, 1.65470548e-01, 8.31372243e-01,\n",
       "       7.47503260e-01, 4.71091847e-02, 6.98481894e-01, 1.16569457e+00,\n",
       "       1.05882169e+00, 1.49812775e-01, 4.64705492e-02, 4.89988997e+00,\n",
       "       4.32014076e-01, 4.30747218e-03, 1.24427053e+00, 1.88237078e+00,\n",
       "       2.02520943e-01, 2.17881606e-01, 1.04746247e+00, 4.72349714e-01,\n",
       "       4.56236145e-02, 1.42504552e+00, 2.06688629e-02, 1.58917591e-05,\n",
       "       3.58445560e+00, 3.43818463e+00, 2.67390350e-01, 1.13639607e-01,\n",
       "       4.03777316e+00, 7.66276885e+00, 4.66756580e-02, 5.82143338e-01,\n",
       "       2.17800466e+00, 1.48808080e-02, 2.37833934e-01, 2.32593259e-02,\n",
       "       1.39987381e-04, 6.82419367e-01, 5.24940895e-01, 3.60620442e-02,\n",
       "       7.99293337e-01, 4.49416686e+00, 6.86139485e-01, 1.07535101e+00,\n",
       "       2.52571316e-02, 5.80255062e-02, 2.96797084e-02, 2.85182275e-01,\n",
       "       8.13943037e-02, 1.77613210e-01, 6.50737261e-01, 5.27805796e-02,\n",
       "       1.52814519e-01, 5.10343745e-01, 5.05770688e+00, 2.42072464e-01,\n",
       "       2.57453451e+00, 4.51540009e-01, 2.76112223e-01, 4.87742014e-01,\n",
       "       7.32995019e-01, 1.40144612e-01, 5.44888014e-02, 1.71292916e+00,\n",
       "       1.63117663e+00, 1.28566114e-01, 1.47826294e+00, 1.20784362e+01,\n",
       "       9.16078994e-02, 1.81899380e+00, 7.67465734e-03, 4.88976917e-01,\n",
       "       1.22679807e+00, 1.85362980e+00, 2.80142039e-03, 2.38129937e+00,\n",
       "       3.26777789e-01, 1.39828619e+00, 2.78854914e-01, 2.30564692e+00,\n",
       "       1.12009903e+00, 2.00677736e-02, 1.41377601e+00, 1.26766553e+00,\n",
       "       4.26007920e-01, 5.68811270e-01, 6.15029436e-03, 2.97067614e+00,\n",
       "       2.50656591e-01, 1.42743368e-01, 4.38307967e+00, 5.48428241e-03,\n",
       "       3.15320044e-01, 7.00765110e-02, 6.03509529e-04, 5.81279610e-03,\n",
       "       1.06603957e+00, 3.94505097e+00, 2.77942919e+00, 8.82904223e-02,\n",
       "       6.43257295e+00, 5.38587577e-02, 2.35065371e-01, 5.46562477e-02,\n",
       "       1.52012475e-01, 1.38994003e-02, 2.62324974e-01, 8.49332839e-02,\n",
       "       6.48756537e-02, 7.28955871e-02, 1.02084818e+00, 1.66675091e-02,\n",
       "       5.12442293e-01, 4.22222965e-02, 1.13775671e+00, 1.95306684e+00,\n",
       "       5.15880192e-01, 1.32239873e+00, 3.43127173e-02, 2.38560343e-01,\n",
       "       6.24693245e-01, 8.01967018e-01, 2.28550052e-01, 2.44627481e+00,\n",
       "       2.04923352e-01, 7.53072151e-02, 4.59834234e-01, 5.56383029e-01,\n",
       "       4.83952132e-02, 1.19818955e+00, 2.54096610e-01, 2.40661854e+00,\n",
       "       5.41943661e-01, 9.10377071e-01, 3.50969937e+00, 1.75828619e+00,\n",
       "       5.26090175e-02, 1.51142588e+00, 4.07669630e-01, 1.03941146e+00,\n",
       "       1.42596084e+00, 2.08166434e-01, 3.91284713e-01, 1.11936811e+00,\n",
       "       3.74821750e+00, 2.22420335e-03, 3.60289073e-01, 1.04907542e+00,\n",
       "       5.86077247e-02, 2.56025534e-01, 4.73363257e-02, 7.03138387e-01])"
      ]
     },
     "execution_count": 10,
     "metadata": {},
     "output_type": "execute_result"
    }
   ],
   "source": [
    "dfnum = 1\n",
    "dfden = 48\n",
    "s = np.random.f(dfnum,dfden,1000)\n",
    "s"
   ]
  },
  {
   "cell_type": "markdown",
   "metadata": {},
   "source": [
    "The lower bound for the top !% of the samples is:"
   ]
  },
  {
   "cell_type": "code",
   "execution_count": 9,
   "metadata": {},
   "outputs": [
    {
     "data": {
      "text/plain": [
       "7.45108012376288"
      ]
     },
     "execution_count": 9,
     "metadata": {},
     "output_type": "execute_result"
    }
   ],
   "source": [
    "np.sort(s)[-10]"
   ]
  },
  {
   "cell_type": "markdown",
   "metadata": {},
   "source": [
    "### numpy.random.geometric <a name=\"geometric\"></a>"
   ]
  },
  {
   "cell_type": "markdown",
   "metadata": {},
   "source": [
    "This draws samples from the geometric distribution.\n",
    "\n",
    "The geometric distribution models the number of trials that must be done before a success is achieved in a Bernoulli trial.\n",
    "\n",
    "The probability mass function of the geometric distribution is\n",
    "\n",
    "$$\n",
    "f(k) - (1-p)^{k-1}p\n",
    "$$\n",
    "\n",
    "where p is the probability of success of an individual trial.\n",
    "\n",
    "Example:\n",
    "\n",
    "Draw 5000 values from the geometric distribution with the probability of an individual success equal to 0.4"
   ]
  },
  {
   "cell_type": "code",
   "execution_count": 12,
   "metadata": {},
   "outputs": [
    {
     "data": {
      "text/plain": [
       "array([12, 11,  1, ...,  1,  4,  6])"
      ]
     },
     "execution_count": 12,
     "metadata": {},
     "output_type": "execute_result"
    }
   ],
   "source": [
    "z=np.random.geometric(p=0.4, size=5000)\n",
    "z"
   ]
  },
  {
   "cell_type": "markdown",
   "metadata": {},
   "source": [
    "How many trials succeded after a single run?"
   ]
  },
  {
   "cell_type": "code",
   "execution_count": 13,
   "metadata": {},
   "outputs": [
    {
     "data": {
      "text/plain": [
       "0.3924"
      ]
     },
     "execution_count": 13,
     "metadata": {},
     "output_type": "execute_result"
    }
   ],
   "source": [
    "(z == 1).sum()/5000"
   ]
  },
  {
   "cell_type": "markdown",
   "metadata": {},
   "source": [
    "### numpy.random.normal <a name=\"normal\"></a>"
   ]
  },
  {
   "cell_type": "markdown",
   "metadata": {},
   "source": [
    "This draws samples from a normal distribution.\n",
    "\n",
    "Often described as bell curve because of its shape.\n",
    "\n",
    "The probability density for the normal distribution is \n",
    "\n",
    "$$\n",
    "p(x) = \\frac{1}{\\sqrt(2\\pi\\sigma^2)}e^{-\\frac{x-\\mu^2}{2\\pi\\sigma^2}}\n",
    "$$"
   ]
  },
  {
   "cell_type": "markdown",
   "metadata": {},
   "source": [
    "Draw samples from the distribution"
   ]
  },
  {
   "cell_type": "code",
   "execution_count": 14,
   "metadata": {},
   "outputs": [],
   "source": [
    "x, y = 0,0.1\n",
    "s = np.random.normal(x,y,100)"
   ]
  },
  {
   "cell_type": "raw",
   "metadata": {},
   "source": [
    "Display the histogram of the samples"
   ]
  },
  {
   "cell_type": "code",
   "execution_count": 19,
   "metadata": {},
   "outputs": [
    {
     "data": {
      "image/png": "[encoded data removed]",
      "text/plain": [
       "<Figure size 432x288 with 1 Axes>"
      ]
     },
     "metadata": {
      "needs_background": "light"
     },
     "output_type": "display_data"
    }
   ],
   "source": [
    "count, bins, ignored = plt.hist(s, 30, density=True)\n",
    "plt.plot(bins, 1/(y * np.sqrt(2 *np.pi)) * np.exp( - (bins - x)**2/(2*y**2)), color = 'r')\n",
    "plt.show()"
   ]
  },
  {
   "cell_type": "markdown",
   "metadata": {},
   "source": [
    "### numpy.random.standard_exponential <a name=\"standardExp\"></a>"
   ]
  },
  {
   "cell_type": "markdown",
   "metadata": {},
   "source": [
    "This draws samples from the standard exponential distribution.\n",
    "\n",
    "Example:\n",
    "\n",
    "Output a 5x500 array:"
   ]
  },
  {
   "cell_type": "code",
   "execution_count": 3,
   "metadata": {},
   "outputs": [
    {
     "data": {
      "text/plain": [
       "array([[0.81929346, 0.62257643, 0.97377166, ..., 2.15243291, 2.57104018,\n",
       "        0.57680927],\n",
       "       [1.99856076, 0.46197633, 0.40368655, ..., 0.18973241, 0.36125483,\n",
       "        0.55453537],\n",
       "       [1.74026827, 3.11269191, 1.12006794, ..., 1.54486308, 0.27452561,\n",
       "        0.94369259],\n",
       "       [0.0843392 , 2.64268857, 0.37394206, ..., 1.90276496, 0.46489938,\n",
       "        1.70307496],\n",
       "       [0.91362773, 0.49316956, 0.25320115, ..., 0.50301762, 0.68287003,\n",
       "        1.04676342]])"
      ]
     },
     "execution_count": 3,
     "metadata": {},
     "output_type": "execute_result"
    }
   ],
   "source": [
    "n = np.random.standard_exponential((5, 500))\n",
    "n"
   ]
  },
  {
   "cell_type": "markdown",
   "metadata": {},
   "source": [
    "### numpy.random.uniform <a name=\"uniform\"></a>\n",
    "\n",
    "This takes samples from a uniform distribution.\n",
    "\n",
    "These smaples are uniformly distributed over the half-open interval. Any value within the given interval is equally likely to be drawn by uniform.\n",
    "\n",
    "The probability density function of the uniform distribution is\n",
    "\n",
    "$$\n",
    "p(x)=\\frac{1}{b - a}\n",
    "$$\n",
    "\n",
    "anywhere within the interval (a, b), and zero elsewhere.\n",
    "\n",
    "Example:\n",
    "\n",
    "Draw samples from the distribution:"
   ]
  },
  {
   "cell_type": "code",
   "execution_count": 4,
   "metadata": {},
   "outputs": [],
   "source": [
    "s = np.random.uniform(-1,0,500)"
   ]
  },
  {
   "cell_type": "markdown",
   "metadata": {},
   "source": [
    "Display the histogram of the samples, along with the probability density function:"
   ]
  },
  {
   "cell_type": "code",
   "execution_count": 6,
   "metadata": {},
   "outputs": [
    {
     "data": {
      "image/png": "[encoded data removed]",
      "text/plain": [
       "<Figure size 432x288 with 1 Axes>"
      ]
     },
     "metadata": {
      "needs_background": "light"
     },
     "output_type": "display_data"
    }
   ],
   "source": [
    "count, bins, ignored = plt.hist(s, 15, density=True)\n",
    "plt.plot(bins, np.ones_like(bins),color='r')\n",
    "plt.show()"
   ]
  },
  {
   "cell_type": "markdown",
   "metadata": {},
   "source": [
    "## Conclusion <a name=\"conclusion\"></a>\n",
    "\n",
    "Throughout creating this notebook, I have learnt a lot about the numpy.rand package. I now have an understanding int the different ways it can be used in python programming. The numpy.rand package makes it easier to gather and display information in graphs of all types. It also makes it wasy to get random samples to be used if needed.\n"
   ]
  }
 ],
 "metadata": {
  "kernelspec": {
   "display_name": "Python 3",
   "language": "python",
   "name": "python3"
  },
  "language_info": {
   "codemirror_mode": {
    "name": "ipython",
    "version": 3
   },
   "file_extension": ".py",
   "mimetype": "text/x-python",
   "name": "python",
   "nbconvert_exporter": "python",
   "pygments_lexer": "ipython3",
   "version": "3.7.0"
  }
 },
 "nbformat": 4,
 "nbformat_minor": 2
}
