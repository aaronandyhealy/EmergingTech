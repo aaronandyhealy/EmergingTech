{
 "cells": [
  {
   "cell_type": "markdown",
   "metadata": {},
   "source": [
    "# NumPy.random Package\n",
    "\n",
    "\n",
    "This notebook goes through the numpy.random package and the concepts\n",
    "behind it.\n",
    "\n",
    "### About NumPy\n",
    "Numpy is a library for the Python programming language.\n",
    "It adds support for large arrays and matrices, along with a large collection of high-level mathematical functions to operate on these arrays. \n",
    "\n",
    "#### NumPy Random\n",
    "numpy.random package deals with random sampling. numpy.random package is the equivalent to pythons standard random librarys, but for NumPy arrays.\n",
    "\n"
   ]
  },
  {
   "cell_type": "markdown",
   "metadata": {},
   "source": [
    "## Simple random data"
   ]
  },
  {
   "cell_type": "markdown",
   "metadata": {},
   "source": [
    "### numpy.random.rand"
   ]
  },
  {
   "cell_type": "markdown",
   "metadata": {},
   "source": [
    "Random values in a given shape.\n",
    "Creates an array of the given shape and populates it with random samples from a uniform distribution over [0, 1) ."
   ]
  },
  {
   "cell_type": "code",
   "execution_count": 7,
   "metadata": {},
   "outputs": [
    {
     "data": {
      "text/plain": [
       "array([[0.83691999, 0.87873602],\n",
       "       [0.83241076, 0.78936042],\n",
       "       [0.85592082, 0.50185402],\n",
       "       [0.73766827, 0.39424831],\n",
       "       [0.35122081, 0.87676532],\n",
       "       [0.99085156, 0.33343892],\n",
       "       [0.68978084, 0.84534011],\n",
       "       [0.63792158, 0.12745262],\n",
       "       [0.85716729, 0.65979226]])"
      ]
     },
     "execution_count": 7,
     "metadata": {},
     "output_type": "execute_result"
    }
   ],
   "source": [
    "import numpy as np\n",
    "\n",
    "np.random.rand(9,2)\n"
   ]
  },
  {
   "cell_type": "markdown",
   "metadata": {},
   "source": [
    "### numpy.random.randn"
   ]
  },
  {
   "cell_type": "markdown",
   "metadata": {},
   "source": [
    "Return a sample or samples from the “standard normal” distribution.\n",
    "\n",
    "If positive, int_like arguments are provided, randn generates an array of shape (d0, d1, ..., dn), filled with random floats sampled from a “normal” distribution of mean 0 and variance 1. A single float randomly sampled from the distribution is returned if no argument is provided."
   ]
  },
  {
   "cell_type": "code",
   "execution_count": 8,
   "metadata": {},
   "outputs": [
    {
     "data": {
      "text/plain": [
       "0.5948526232025929"
      ]
     },
     "execution_count": 8,
     "metadata": {},
     "output_type": "execute_result"
    }
   ],
   "source": [
    "np.random.randn()"
   ]
  },
  {
   "cell_type": "code",
   "execution_count": 19,
   "metadata": {},
   "outputs": [
    {
     "data": {
      "text/plain": [
       "array([[-2.18043769, -0.18429151,  0.81191457,  1.63515393],\n",
       "       [-0.72192869,  0.86262599,  1.31941559, -0.32042839]])"
      ]
     },
     "execution_count": 19,
     "metadata": {},
     "output_type": "execute_result"
    }
   ],
   "source": [
    "\n",
    "np.random.randn(2, 4)"
   ]
  }
 ],
 "metadata": {
  "kernelspec": {
   "display_name": "Python 3",
   "language": "python",
   "name": "python3"
  },
  "language_info": {
   "codemirror_mode": {
    "name": "ipython",
    "version": 3
   },
   "file_extension": ".py",
   "mimetype": "text/x-python",
   "name": "python",
   "nbconvert_exporter": "python",
   "pygments_lexer": "ipython3",
   "version": "3.6.4"
  }
 },
 "nbformat": 4,
 "nbformat_minor": 2
}
