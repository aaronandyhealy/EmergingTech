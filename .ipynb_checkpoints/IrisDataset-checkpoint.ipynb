{
 "cells": [
  {
   "cell_type": "markdown",
   "metadata": {},
   "source": [
    "# Iris Dataset\n",
    "\n",
    "This notebook talks about the Iris Dataset. This dataset is perhaps the best known dataset to be found in the pattern recognition literature. \n",
    "\n",
    "## Table of Contents\n",
    "1. [What is the Iris Dataset](#WhatIs)\n",
    "\n",
    "##  What is the Iris Dataset? <a name=\"WhatIs\"></a>\n",
    "\n",
    "The Iris flower data set,also known as Fisher's Iris data set is a multivariate data set introduced by the British statistician and biologist Ronald Fisher. \n",
    "\n",
    "The data set consists of 50 samples from each of three species of Iris,the setosa, the virginica and the versicolor. Four features were measured from each sample, the length and width of both the sepals and petals. Studying the combination of these four features, Fisher developed a linear discriminant model to distinguish one species from another."
   ]
  }
 ],
 "metadata": {
  "kernelspec": {
   "display_name": "Python 3",
   "language": "python",
   "name": "python3"
  },
  "language_info": {
   "codemirror_mode": {
    "name": "ipython",
    "version": 3
   },
   "file_extension": ".py",
   "mimetype": "text/x-python",
   "name": "python",
   "nbconvert_exporter": "python",
   "pygments_lexer": "ipython3",
   "version": "3.7.0"
  }
 },
 "nbformat": 4,
 "nbformat_minor": 2
}
